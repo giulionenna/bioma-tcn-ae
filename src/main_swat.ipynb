{
 "cells": [
  {
   "cell_type": "code",
   "execution_count": null,
   "metadata": {},
   "outputs": [],
   "source": [
    "#\n",
    "# First Check, if we are running in Google CoLab\n",
    "#\n",
    "IN_COLAB = 'google.colab' in str(get_ipython())\n",
    "if IN_COLAB:\n",
    "    print('Running on Google CoLab!')\n",
    "else:\n",
    "    print('Not running on Google CoLab!')\n",
    "\n",
    "import os\n",
    "if IN_COLAB:\n",
    "    !pip3 install keras-tcn\n",
    "    if not os.path.exists('/content/bioma-tcn-ae/'):\n",
    "        print(\"Repo not cloned yet. Do it now!\")\n",
    "        !git clone https://github.com/MarkusThill/bioma-tcn-ae /content/bioma-tcn-ae/\n",
    "    else:\n",
    "        print(\"Repository already cloned!\")\n",
    "\n",
    "#\n",
    "# In Google CoLab: Change the working directory to bioma-tcn-ae/src\n",
    "#\n",
    "if IN_COLAB and os.getcwd() != \"/content/bioma-tcn-ae/src\":\n",
    "  # Print the current working directory\n",
    "  print(\"Old working directory: {0}\".format(os.getcwd()))\n",
    "\n",
    "  # Change the current working directory\n",
    "  os.chdir('/content/bioma-tcn-ae/src')\n",
    "\n",
    "  # Print the current working directory\n",
    "  print(\"New working directory: {0}\".format(os.getcwd()))\n",
    "\n",
    "if IN_COLAB:\n",
    "    %tensorflow_version 2.x\n",
    "    import tensorflow as tf\n",
    "    device_name = tf.test.gpu_device_name()\n",
    "    if device_name != '/device:GPU:0':\n",
    "        raise SystemError('GPU device not found')\n",
    "    print('Found GPU at: {}'.format(device_name))"
   ]
  },
  {
   "cell_type": "code",
   "execution_count": null,
   "metadata": {},
   "outputs": [],
   "source": [
    "import numpy\n",
    "import time\n",
    "from utilities import select_gpus, plot_results_swat# utilities.py: Contains a few miscellaneous functions \n",
    "from tcnae import TCNAE # tcnae.py: Specification of the TCN-AE model\n",
    "import data_swat \n"
   ]
  },
  {
   "cell_type": "code",
   "execution_count": null,
   "metadata": {},
   "outputs": [],
   "source": [
    "train_ts_id = 1 # [1-10]. Train the model on Mackey-Glass time series 1\n",
    "data_gen = data_swat.DataSwat(window_length = 1050, ratio = 1)\n",
    "train_data = data_gen.build_data() # Returns a dictionary\n",
    "train_X = train_data[\"train_X\"] # We only need train_X (input = output) for the training process\n",
    "print(\"train_X.shape:\", train_X.shape) # A lot of training sequences of length 1050 and dimension 1\n"
   ]
  },
  {
   "cell_type": "code",
   "execution_count": null,
   "metadata": {},
   "outputs": [],
   "source": [
    "tcn_ae = TCNAE(ts_dimension=train_X.shape[2], dilations=(1, 2, 4, 8, 16)) # Use the parameters specified in the paper\n",
    "tcn_ae.fit(train_X, train_X, batch_size=8, epochs=10, verbose=1)\n"
   ]
  },
  {
   "cell_type": "code",
   "execution_count": null,
   "metadata": {},
   "outputs": [],
   "source": [
    "start_time = time.time()\n",
    "\n",
    "#\n",
    "# Take the whole time series... Like the training data, the test data is standardized (zero mean and unit variance)\n",
    "#\n",
    "test_X = train_data['test_X'] \n",
    "test_labels = train_data['test_labels']# We need an extra dimension for the batch-dimension\n",
    "print(\"test_X.shape\", test_X.shape) # This is one long time series\n",
    "anomaly_score = tcn_ae.predict(test_X)\n",
    "print(\"> Time:\", round(time.time() - start_time), \"seconds.\")\n"
   ]
  },
  {
   "cell_type": "code",
   "execution_count": null,
   "metadata": {},
   "outputs": [],
   "source": [
    "plot_results_swat(test_X, test_labels, anomaly_score, pl_range = None, plot_signal = False, plot_anomaly_score = True)\n"
   ]
  }
 ],
 "metadata": {
  "kernelspec": {
   "display_name": "Python 3",
   "language": "python",
   "name": "python3"
  },
  "language_info": {
   "codemirror_mode": {
    "name": "ipython",
    "version": 3
   },
   "file_extension": ".py",
   "mimetype": "text/x-python",
   "name": "python",
   "nbconvert_exporter": "python",
   "pygments_lexer": "ipython3",
   "version": "3.10.13"
  }
 },
 "nbformat": 4,
 "nbformat_minor": 4
}
